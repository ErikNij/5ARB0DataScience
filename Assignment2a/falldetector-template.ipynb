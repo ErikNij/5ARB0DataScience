{
 "cells": [
  {
   "cell_type": "markdown",
   "metadata": {},
   "source": [
    "# Fall detector\n",
    "## \\[5ARB0\\] Data Acquisition and Analysis - Technical Assignment"
   ]
  },
  {
   "cell_type": "code",
   "execution_count": 2,
   "metadata": {},
   "outputs": [],
   "source": [
    "# this cell imports the libraries or packages that you can use during this assignment\n",
    "# you are not allowed to import additional libraries or packages\n",
    "from helpers import *\n",
    "import matplotlib.pyplot as plt\n",
    "import numpy as np\n",
    "import pandas as pd\n",
    "from scipy.stats import multivariate_normal"
   ]
  },
  {
   "cell_type": "markdown",
   "metadata": {},
   "source": [
    "> **Important**\n",
    ">\n",
    "> Do not import any other packages or libraries than the ones already provided to you.\n",
    ">\n",
    "> Write your code between the `BEGIN_TODO` and `END_TODO` markers. Do not change these markers.\n",
    ">\n",
    "> Restart your notebook and run all cells before submission."
   ]
  },
  {
   "cell_type": "markdown",
   "metadata": {},
   "source": [
    "## Introduction\n",
    "In this assignment you will use the previously learned data analysis methods and apply them to create a fall detector. After collecting and preprocessing sensor recording, you will extract a set of features which you will use for creating a fall detector.\n",
    "\n",
    "This assignment is split into 4 parts. Parts 1-3 encompass the collection, preprocessing and feature extraction of sensor recordings. Finally, in part 4 you will create a fall detector.\n",
    "\n",
    "### Learning goals\n",
    "After this assignment you can\n",
    "- collect data according to a protocol;\n",
    "- load and merge datasets;\n",
    "- preprocess data;\n",
    "- extract features from data;\n",
    "- apply analysis methods for creating a fall detector."
   ]
  },
  {
   "cell_type": "markdown",
   "metadata": {},
   "source": [
    "## Part 1: Data collection"
   ]
  },
  {
   "cell_type": "markdown",
   "metadata": {},
   "source": [
    "Collect the data according to the data collection protocol provided on Canvas.\n",
    "\n",
    "> (For iPhone) If you have issues accessing the (live) calibrated data of the _Sensor Logger_ app, you need to enable motion and compas calibration on your phone as explained [here](https://www.lifewire.com/how-to-calibrate-an-iphone-4172146). You will notice this once the live view and the export yield empty results."
   ]
  },
  {
   "cell_type": "markdown",
   "metadata": {},
   "source": [
    "## Part 2: Data cleaning and preprocessing\n",
    "In this part you will be working on cleaning and preprocessing the data that you have gathered for further analysis.\n"
   ]
  },
  {
   "cell_type": "markdown",
   "metadata": {},
   "source": [
    "---\n",
    "---\n",
    "### Exercise 2.1: Read, merge and select data\n",
    "Load one of your individuals recordings in a Pandas DataFrame called `data`. You may want to have a look at the `pd.merge_asof` function to combine the recordings of the different sensors. Make sure that the `data` dataframe does not contain any `NaN`'s or empty fields as a result of different sampling frequencies. Any columns/recordings that you will not be using in your experiment should be removed from `data` (except for the `seconds_elapsed` column). Also remove duplicate colums. In the end your dataframe should have an indexing column, a column called `seconds_elapsed`, followed by the columns corresponding to the measurements."
   ]
  },
  {
   "cell_type": "code",
   "execution_count": 52,
   "metadata": {},
   "outputs": [],
   "source": [
    "#// BEGIN_TODO [5ARB0_FallDetector_2_1] Read, merge and select data\n",
    "\n",
    "def readDataFromCSV(acc_CSV, gyro_CSV, grav_CSV):\n",
    "    '''\n",
    "    Reads the data from the CSV files and returns them\n",
    "    :params: the 3 datasets to be read\n",
    "    returns 3 datasets as a dataframe\n",
    "    '''\n",
    "    acc_df = pd.read_csv(acc_CSV)\n",
    "    gyro_df = pd.read_csv(gyro_CSV)\n",
    "    grav_df = pd.read_csv(grav_CSV)\n",
    "    return acc_df, gyro_df, grav_df\n",
    "\n",
    "def MergeDatasets(acc_df, gyro_df, grav_df):\n",
    "    '''\n",
    "    Merges the datasets given as params\n",
    "    :params: the 3 datasets to be merged\n",
    "    returns a dataframe\n",
    "    '''\n",
    "    tolerance = 0.1\n",
    "    # combine acc and gyro\n",
    "    df = pd.merge_asof(acc_df, gyro_df, on='seconds_elapsed', suffixes=['', '_gyro'], tolerance= tolerance, direction='nearest')\n",
    "    # combine acc+gyro and grav\n",
    "    df = pd.merge_asof(df, grav_df, on='seconds_elapsed', suffixes=['_acc', '_grav'], tolerance= tolerance, direction='nearest')\n",
    "\n",
    "    #remove unused columns, nan and duplicates\n",
    "    df = df.drop(columns=['time_acc', 'time_gyro', 'time_grav']).drop_duplicates().dropna()\n",
    "\n",
    "    return df\n",
    "\n",
    "#// END_TODO [5ARB0_FallDetector_2_1]"
   ]
  },
  {
   "cell_type": "code",
   "execution_count": 86,
   "metadata": {},
   "outputs": [
    {
     "ename": "TypeError",
     "evalue": "Only valid with DatetimeIndex, TimedeltaIndex or PeriodIndex, but got an instance of 'Index'",
     "output_type": "error",
     "traceback": [
      "\u001b[1;31m---------------------------------------------------------------------------\u001b[0m",
      "\u001b[1;31mTypeError\u001b[0m                                 Traceback (most recent call last)",
      "\u001b[1;32mc:\\Users\\danis\\Repositories\\Jupyter\\Assigment 1\\Assignment2a\\falldetector-template.ipynb Cell 10\u001b[0m line \u001b[0;36m9\n\u001b[0;32m      <a href='vscode-notebook-cell:/c%3A/Users/danis/Repositories/Jupyter/Assigment%201/Assignment2a/falldetector-template.ipynb#X13sZmlsZQ%3D%3D?line=6'>7</a>\u001b[0m \u001b[39m# merge data\u001b[39;00m\n\u001b[0;32m      <a href='vscode-notebook-cell:/c%3A/Users/danis/Repositories/Jupyter/Assigment%201/Assignment2a/falldetector-template.ipynb#X13sZmlsZQ%3D%3D?line=7'>8</a>\u001b[0m data \u001b[39m=\u001b[39m MergeDatasets(acc_df, gyro_df, grav_df)\n\u001b[1;32m----> <a href='vscode-notebook-cell:/c%3A/Users/danis/Repositories/Jupyter/Assigment%201/Assignment2a/falldetector-template.ipynb#X13sZmlsZQ%3D%3D?line=8'>9</a>\u001b[0m data\u001b[39m.\u001b[39;49mresample(\u001b[39m'\u001b[39;49m\u001b[39m0.1S\u001b[39;49m\u001b[39m'\u001b[39;49m)\u001b[39m.\u001b[39mmean()\n\u001b[0;32m     <a href='vscode-notebook-cell:/c%3A/Users/danis/Repositories/Jupyter/Assigment%201/Assignment2a/falldetector-template.ipynb#X13sZmlsZQ%3D%3D?line=9'>10</a>\u001b[0m \u001b[39m#show data\u001b[39;00m\n\u001b[0;32m     <a href='vscode-notebook-cell:/c%3A/Users/danis/Repositories/Jupyter/Assigment%201/Assignment2a/falldetector-template.ipynb#X13sZmlsZQ%3D%3D?line=10'>11</a>\u001b[0m data\n",
      "File \u001b[1;32mc:\\Users\\danis\\anaconda3\\envs\\environment\\lib\\site-packages\\pandas\\core\\frame.py:10994\u001b[0m, in \u001b[0;36mDataFrame.resample\u001b[1;34m(self, rule, axis, closed, label, convention, kind, on, level, origin, offset, group_keys)\u001b[0m\n\u001b[0;32m  10979\u001b[0m \u001b[39m@doc\u001b[39m(NDFrame\u001b[39m.\u001b[39mresample, \u001b[39m*\u001b[39m\u001b[39m*\u001b[39m_shared_doc_kwargs)\n\u001b[0;32m  10980\u001b[0m \u001b[39mdef\u001b[39;00m \u001b[39mresample\u001b[39m(\n\u001b[0;32m  10981\u001b[0m     \u001b[39mself\u001b[39m,\n\u001b[1;32m   (...)\u001b[0m\n\u001b[0;32m  10992\u001b[0m     group_keys: \u001b[39mbool\u001b[39m \u001b[39m=\u001b[39m \u001b[39mFalse\u001b[39;00m,\n\u001b[0;32m  10993\u001b[0m ) \u001b[39m-\u001b[39m\u001b[39m>\u001b[39m Resampler:\n\u001b[1;32m> 10994\u001b[0m     \u001b[39mreturn\u001b[39;00m \u001b[39msuper\u001b[39;49m()\u001b[39m.\u001b[39;49mresample(\n\u001b[0;32m  10995\u001b[0m         rule\u001b[39m=\u001b[39;49mrule,\n\u001b[0;32m  10996\u001b[0m         axis\u001b[39m=\u001b[39;49maxis,\n\u001b[0;32m  10997\u001b[0m         closed\u001b[39m=\u001b[39;49mclosed,\n\u001b[0;32m  10998\u001b[0m         label\u001b[39m=\u001b[39;49mlabel,\n\u001b[0;32m  10999\u001b[0m         convention\u001b[39m=\u001b[39;49mconvention,\n\u001b[0;32m  11000\u001b[0m         kind\u001b[39m=\u001b[39;49mkind,\n\u001b[0;32m  11001\u001b[0m         on\u001b[39m=\u001b[39;49mon,\n\u001b[0;32m  11002\u001b[0m         level\u001b[39m=\u001b[39;49mlevel,\n\u001b[0;32m  11003\u001b[0m         origin\u001b[39m=\u001b[39;49morigin,\n\u001b[0;32m  11004\u001b[0m         offset\u001b[39m=\u001b[39;49moffset,\n\u001b[0;32m  11005\u001b[0m         group_keys\u001b[39m=\u001b[39;49mgroup_keys,\n\u001b[0;32m  11006\u001b[0m     )\n",
      "File \u001b[1;32mc:\\Users\\danis\\anaconda3\\envs\\environment\\lib\\site-packages\\pandas\\core\\generic.py:8888\u001b[0m, in \u001b[0;36mNDFrame.resample\u001b[1;34m(self, rule, axis, closed, label, convention, kind, on, level, origin, offset, group_keys)\u001b[0m\n\u001b[0;32m   8885\u001b[0m \u001b[39mfrom\u001b[39;00m \u001b[39mpandas\u001b[39;00m\u001b[39m.\u001b[39;00m\u001b[39mcore\u001b[39;00m\u001b[39m.\u001b[39;00m\u001b[39mresample\u001b[39;00m \u001b[39mimport\u001b[39;00m get_resampler\n\u001b[0;32m   8887\u001b[0m axis \u001b[39m=\u001b[39m \u001b[39mself\u001b[39m\u001b[39m.\u001b[39m_get_axis_number(axis)\n\u001b[1;32m-> 8888\u001b[0m \u001b[39mreturn\u001b[39;00m get_resampler(\n\u001b[0;32m   8889\u001b[0m     cast(\u001b[39m\"\u001b[39;49m\u001b[39mSeries | DataFrame\u001b[39;49m\u001b[39m\"\u001b[39;49m, \u001b[39mself\u001b[39;49m),\n\u001b[0;32m   8890\u001b[0m     freq\u001b[39m=\u001b[39;49mrule,\n\u001b[0;32m   8891\u001b[0m     label\u001b[39m=\u001b[39;49mlabel,\n\u001b[0;32m   8892\u001b[0m     closed\u001b[39m=\u001b[39;49mclosed,\n\u001b[0;32m   8893\u001b[0m     axis\u001b[39m=\u001b[39;49maxis,\n\u001b[0;32m   8894\u001b[0m     kind\u001b[39m=\u001b[39;49mkind,\n\u001b[0;32m   8895\u001b[0m     convention\u001b[39m=\u001b[39;49mconvention,\n\u001b[0;32m   8896\u001b[0m     key\u001b[39m=\u001b[39;49mon,\n\u001b[0;32m   8897\u001b[0m     level\u001b[39m=\u001b[39;49mlevel,\n\u001b[0;32m   8898\u001b[0m     origin\u001b[39m=\u001b[39;49morigin,\n\u001b[0;32m   8899\u001b[0m     offset\u001b[39m=\u001b[39;49moffset,\n\u001b[0;32m   8900\u001b[0m     group_keys\u001b[39m=\u001b[39;49mgroup_keys,\n\u001b[0;32m   8901\u001b[0m )\n",
      "File \u001b[1;32mc:\\Users\\danis\\anaconda3\\envs\\environment\\lib\\site-packages\\pandas\\core\\resample.py:1523\u001b[0m, in \u001b[0;36mget_resampler\u001b[1;34m(obj, kind, **kwds)\u001b[0m\n\u001b[0;32m   1519\u001b[0m \u001b[39m\u001b[39m\u001b[39m\"\"\"\u001b[39;00m\n\u001b[0;32m   1520\u001b[0m \u001b[39mCreate a TimeGrouper and return our resampler.\u001b[39;00m\n\u001b[0;32m   1521\u001b[0m \u001b[39m\"\"\"\u001b[39;00m\n\u001b[0;32m   1522\u001b[0m tg \u001b[39m=\u001b[39m TimeGrouper(\u001b[39m*\u001b[39m\u001b[39m*\u001b[39mkwds)\n\u001b[1;32m-> 1523\u001b[0m \u001b[39mreturn\u001b[39;00m tg\u001b[39m.\u001b[39;49m_get_resampler(obj, kind\u001b[39m=\u001b[39;49mkind)\n",
      "File \u001b[1;32mc:\\Users\\danis\\anaconda3\\envs\\environment\\lib\\site-packages\\pandas\\core\\resample.py:1713\u001b[0m, in \u001b[0;36mTimeGrouper._get_resampler\u001b[1;34m(self, obj, kind)\u001b[0m\n\u001b[0;32m   1704\u001b[0m \u001b[39melif\u001b[39;00m \u001b[39misinstance\u001b[39m(ax, TimedeltaIndex):\n\u001b[0;32m   1705\u001b[0m     \u001b[39mreturn\u001b[39;00m TimedeltaIndexResampler(\n\u001b[0;32m   1706\u001b[0m         obj,\n\u001b[0;32m   1707\u001b[0m         timegrouper\u001b[39m=\u001b[39m\u001b[39mself\u001b[39m,\n\u001b[1;32m   (...)\u001b[0m\n\u001b[0;32m   1710\u001b[0m         gpr_index\u001b[39m=\u001b[39max,\n\u001b[0;32m   1711\u001b[0m     )\n\u001b[1;32m-> 1713\u001b[0m \u001b[39mraise\u001b[39;00m \u001b[39mTypeError\u001b[39;00m(\n\u001b[0;32m   1714\u001b[0m     \u001b[39m\"\u001b[39m\u001b[39mOnly valid with DatetimeIndex, \u001b[39m\u001b[39m\"\u001b[39m\n\u001b[0;32m   1715\u001b[0m     \u001b[39m\"\u001b[39m\u001b[39mTimedeltaIndex or PeriodIndex, \u001b[39m\u001b[39m\"\u001b[39m\n\u001b[0;32m   1716\u001b[0m     \u001b[39mf\u001b[39m\u001b[39m\"\u001b[39m\u001b[39mbut got an instance of \u001b[39m\u001b[39m'\u001b[39m\u001b[39m{\u001b[39;00m\u001b[39mtype\u001b[39m(ax)\u001b[39m.\u001b[39m\u001b[39m__name__\u001b[39m\u001b[39m}\u001b[39;00m\u001b[39m'\u001b[39m\u001b[39m\"\u001b[39m\n\u001b[0;32m   1717\u001b[0m )\n",
      "\u001b[1;31mTypeError\u001b[0m: Only valid with DatetimeIndex, TimedeltaIndex or PeriodIndex, but got an instance of 'Index'"
     ]
    }
   ],
   "source": [
    "acc_CSV = \"./RawDataDaniel/Walk_samples/2023-09-26_07-15-41/Accelerometer.csv\"\n",
    "grav_CSV = \"./RawDataDaniel/Walk_samples/2023-09-26_07-15-41/Gravity.csv\"\n",
    "gyro_CSV = \"./RawDataDaniel/Walk_samples/2023-09-26_07-15-41/Gyroscope.csv\"\n",
    "\n",
    "# read data\n",
    "acc_df, gyro_df, grav_df = readDataFromCSV(acc_CSV, gyro_CSV, grav_CSV)\n",
    "# merge data\n",
    "data = MergeDatasets(acc_df, gyro_df, grav_df)\n",
    "\n",
    "#show data\n",
    "data"
   ]
  },
  {
   "cell_type": "markdown",
   "metadata": {},
   "source": [
    "### End of exercise 2.1\n",
    "---\n",
    "---"
   ]
  },
  {
   "cell_type": "markdown",
   "metadata": {},
   "source": [
    "In order to restrict our focus to fall detection, we would like to trim the recorded segment. In this way we can remove the movements corresponding to starting and stopping the sensor logger app. \n",
    "\n",
    "---\n",
    "---\n",
    "### Exercise 2.2: Trim data\n",
    "Remove the first and last 5 seconds of the recordings for this purpose and save this trimmed data frame to `data_trimmed`. Make sure that your code works for a data frame containing an arbitrary number of columns."
   ]
  },
  {
   "cell_type": "code",
   "execution_count": 70,
   "metadata": {},
   "outputs": [],
   "source": [
    "#// BEGIN_TODO [5ARB0_FallDetector_2_2] Trim data\n",
    "\n",
    "def trimDataset(data: pd.DataFrame, fromStart= 5, fromEnd=5):\n",
    "    '''\n",
    "    Removes 'fromStart' number of seconds from the begging of the sample and removes 'fromEnd' number of seconds from the begging\n",
    "    :fromStart: the number of seconds to be removed from the begging of the record\n",
    "    :fromEnd: the number of seconds to be removed from the end of the record\n",
    "    @returns the trimmed dataset\n",
    "    '''\n",
    "    \n",
    "    # from the begging\n",
    "    data = data.drop(\n",
    "        data[data['seconds_elapsed'] < fromStart].index\n",
    "    )\n",
    "\n",
    "    # from the end\n",
    "    data = data.drop(\n",
    "        data[data['seconds_elapsed'] > data['seconds_elapsed'].max() - fromEnd].index\n",
    "    )\n",
    "\n",
    "    return data\n",
    "    \n",
    "\n",
    "#// END_TODO [5ARB0_FallDetector_2_2]"
   ]
  },
  {
   "cell_type": "code",
   "execution_count": 71,
   "metadata": {},
   "outputs": [
    {
     "data": {
      "text/html": [
       "<div>\n",
       "<style scoped>\n",
       "    .dataframe tbody tr th:only-of-type {\n",
       "        vertical-align: middle;\n",
       "    }\n",
       "\n",
       "    .dataframe tbody tr th {\n",
       "        vertical-align: top;\n",
       "    }\n",
       "\n",
       "    .dataframe thead th {\n",
       "        text-align: right;\n",
       "    }\n",
       "</style>\n",
       "<table border=\"1\" class=\"dataframe\">\n",
       "  <thead>\n",
       "    <tr style=\"text-align: right;\">\n",
       "      <th></th>\n",
       "      <th>seconds_elapsed</th>\n",
       "      <th>z_acc</th>\n",
       "      <th>y_acc</th>\n",
       "      <th>x_acc</th>\n",
       "      <th>z_gyro</th>\n",
       "      <th>y_gyro</th>\n",
       "      <th>x_gyro</th>\n",
       "      <th>z_grav</th>\n",
       "      <th>y_grav</th>\n",
       "      <th>x_grav</th>\n",
       "    </tr>\n",
       "  </thead>\n",
       "  <tbody>\n",
       "    <tr>\n",
       "      <th>543</th>\n",
       "      <td>7.268935</td>\n",
       "      <td>-0.137248</td>\n",
       "      <td>0.698496</td>\n",
       "      <td>1.141784</td>\n",
       "      <td>0.154463</td>\n",
       "      <td>1.039564</td>\n",
       "      <td>0.729439</td>\n",
       "      <td>1.777337</td>\n",
       "      <td>-8.923182</td>\n",
       "      <td>-3.659001</td>\n",
       "    </tr>\n",
       "    <tr>\n",
       "      <th>544</th>\n",
       "      <td>7.278969</td>\n",
       "      <td>-0.238461</td>\n",
       "      <td>0.296979</td>\n",
       "      <td>1.085707</td>\n",
       "      <td>0.154463</td>\n",
       "      <td>1.039564</td>\n",
       "      <td>0.729439</td>\n",
       "      <td>1.870167</td>\n",
       "      <td>-8.877235</td>\n",
       "      <td>-3.723917</td>\n",
       "    </tr>\n",
       "    <tr>\n",
       "      <th>545</th>\n",
       "      <td>7.289002</td>\n",
       "      <td>-0.562388</td>\n",
       "      <td>-0.750215</td>\n",
       "      <td>1.297325</td>\n",
       "      <td>0.154463</td>\n",
       "      <td>1.039564</td>\n",
       "      <td>0.729439</td>\n",
       "      <td>1.974771</td>\n",
       "      <td>-8.825411</td>\n",
       "      <td>-3.792463</td>\n",
       "    </tr>\n",
       "    <tr>\n",
       "      <th>546</th>\n",
       "      <td>7.299035</td>\n",
       "      <td>-1.362981</td>\n",
       "      <td>-1.764613</td>\n",
       "      <td>1.720465</td>\n",
       "      <td>0.154463</td>\n",
       "      <td>1.039564</td>\n",
       "      <td>0.729439</td>\n",
       "      <td>2.096213</td>\n",
       "      <td>-8.771613</td>\n",
       "      <td>-3.851634</td>\n",
       "    </tr>\n",
       "    <tr>\n",
       "      <th>547</th>\n",
       "      <td>7.309070</td>\n",
       "      <td>-2.406208</td>\n",
       "      <td>-2.324449</td>\n",
       "      <td>2.089088</td>\n",
       "      <td>0.154463</td>\n",
       "      <td>1.039564</td>\n",
       "      <td>0.729439</td>\n",
       "      <td>2.230479</td>\n",
       "      <td>-8.717321</td>\n",
       "      <td>-3.899184</td>\n",
       "    </tr>\n",
       "    <tr>\n",
       "      <th>...</th>\n",
       "      <td>...</td>\n",
       "      <td>...</td>\n",
       "      <td>...</td>\n",
       "      <td>...</td>\n",
       "      <td>...</td>\n",
       "      <td>...</td>\n",
       "      <td>...</td>\n",
       "      <td>...</td>\n",
       "      <td>...</td>\n",
       "      <td>...</td>\n",
       "    </tr>\n",
       "    <tr>\n",
       "      <th>1791</th>\n",
       "      <td>21.905820</td>\n",
       "      <td>-3.938864</td>\n",
       "      <td>-4.210360</td>\n",
       "      <td>-3.655980</td>\n",
       "      <td>-6.281327</td>\n",
       "      <td>1.412406</td>\n",
       "      <td>1.495098</td>\n",
       "      <td>8.512507</td>\n",
       "      <td>4.721923</td>\n",
       "      <td>-1.187882</td>\n",
       "    </tr>\n",
       "    <tr>\n",
       "      <th>1792</th>\n",
       "      <td>21.915836</td>\n",
       "      <td>-2.959685</td>\n",
       "      <td>-3.344396</td>\n",
       "      <td>-3.447975</td>\n",
       "      <td>-5.839376</td>\n",
       "      <td>2.067277</td>\n",
       "      <td>1.587775</td>\n",
       "      <td>8.407792</td>\n",
       "      <td>4.770100</td>\n",
       "      <td>-1.650931</td>\n",
       "    </tr>\n",
       "    <tr>\n",
       "      <th>1793</th>\n",
       "      <td>21.925852</td>\n",
       "      <td>-1.804575</td>\n",
       "      <td>-2.564031</td>\n",
       "      <td>-3.399087</td>\n",
       "      <td>-5.380380</td>\n",
       "      <td>2.150368</td>\n",
       "      <td>1.683649</td>\n",
       "      <td>8.286499</td>\n",
       "      <td>4.806302</td>\n",
       "      <td>-2.098524</td>\n",
       "    </tr>\n",
       "    <tr>\n",
       "      <th>1794</th>\n",
       "      <td>21.935868</td>\n",
       "      <td>-0.643910</td>\n",
       "      <td>-1.900748</td>\n",
       "      <td>-3.655062</td>\n",
       "      <td>-4.877709</td>\n",
       "      <td>1.597629</td>\n",
       "      <td>1.731586</td>\n",
       "      <td>8.165960</td>\n",
       "      <td>4.833255</td>\n",
       "      <td>-2.475303</td>\n",
       "    </tr>\n",
       "    <tr>\n",
       "      <th>1795</th>\n",
       "      <td>21.945884</td>\n",
       "      <td>-0.004763</td>\n",
       "      <td>-1.945578</td>\n",
       "      <td>-3.660366</td>\n",
       "      <td>-4.339884</td>\n",
       "      <td>0.648746</td>\n",
       "      <td>1.774197</td>\n",
       "      <td>8.062894</td>\n",
       "      <td>4.858889</td>\n",
       "      <td>-2.747969</td>\n",
       "    </tr>\n",
       "  </tbody>\n",
       "</table>\n",
       "<p>605 rows × 10 columns</p>\n",
       "</div>"
      ],
      "text/plain": [
       "      seconds_elapsed     z_acc     y_acc     x_acc    z_gyro    y_gyro  \\\n",
       "543          7.268935 -0.137248  0.698496  1.141784  0.154463  1.039564   \n",
       "544          7.278969 -0.238461  0.296979  1.085707  0.154463  1.039564   \n",
       "545          7.289002 -0.562388 -0.750215  1.297325  0.154463  1.039564   \n",
       "546          7.299035 -1.362981 -1.764613  1.720465  0.154463  1.039564   \n",
       "547          7.309070 -2.406208 -2.324449  2.089088  0.154463  1.039564   \n",
       "...               ...       ...       ...       ...       ...       ...   \n",
       "1791        21.905820 -3.938864 -4.210360 -3.655980 -6.281327  1.412406   \n",
       "1792        21.915836 -2.959685 -3.344396 -3.447975 -5.839376  2.067277   \n",
       "1793        21.925852 -1.804575 -2.564031 -3.399087 -5.380380  2.150368   \n",
       "1794        21.935868 -0.643910 -1.900748 -3.655062 -4.877709  1.597629   \n",
       "1795        21.945884 -0.004763 -1.945578 -3.660366 -4.339884  0.648746   \n",
       "\n",
       "        x_gyro    z_grav    y_grav    x_grav  \n",
       "543   0.729439  1.777337 -8.923182 -3.659001  \n",
       "544   0.729439  1.870167 -8.877235 -3.723917  \n",
       "545   0.729439  1.974771 -8.825411 -3.792463  \n",
       "546   0.729439  2.096213 -8.771613 -3.851634  \n",
       "547   0.729439  2.230479 -8.717321 -3.899184  \n",
       "...        ...       ...       ...       ...  \n",
       "1791  1.495098  8.512507  4.721923 -1.187882  \n",
       "1792  1.587775  8.407792  4.770100 -1.650931  \n",
       "1793  1.683649  8.286499  4.806302 -2.098524  \n",
       "1794  1.731586  8.165960  4.833255 -2.475303  \n",
       "1795  1.774197  8.062894  4.858889 -2.747969  \n",
       "\n",
       "[605 rows x 10 columns]"
      ]
     },
     "execution_count": 71,
     "metadata": {},
     "output_type": "execute_result"
    }
   ],
   "source": [
    "data_trimmed = trimDataset(data)\n",
    "data_trimmed"
   ]
  },
  {
   "cell_type": "markdown",
   "metadata": {},
   "source": [
    "### End of exercise 2.2\n",
    "---\n",
    "---"
   ]
  },
  {
   "cell_type": "markdown",
   "metadata": {},
   "source": [
    "---\n",
    "---\n",
    "### Exercise 2.3: Normalize recordings\n",
    "For improved processing, the recordings should be normalized. Normalize the recordings by subtracting its mean and by then dividing by its standard deviation. Perform this normalization for each column individually. Save your normalized data in the the data frame `data_norm`."
   ]
  },
  {
   "cell_type": "code",
   "execution_count": 80,
   "metadata": {},
   "outputs": [],
   "source": [
    "#// BEGIN_TODO [5ARB0_FallDetector_2_3] Normalize recordings\n",
    "\n",
    "# ===== =====> Replace this line by your code. <===== ===== #\n",
    "\n",
    "def normaliseDataset(df: pd.DataFrame):\n",
    "    # dataset[column] -= dataset[column].mean()\n",
    "    # dataset[column] /= dataset[column].std()\n",
    "    # normalized_df = (df[]-df.mean())/df.std()\n",
    "    \n",
    "    _, x = df.shape\n",
    "    for i in range(x):\n",
    "        df.iloc[:,i] -= df.iloc[:,i].mean()\n",
    "        df.iloc[:,i] /= df.iloc[:,i].std()\n",
    "\n",
    "    return df\n",
    "\n",
    "#// END_TODO [5ARB0_FallDetector_2_3]"
   ]
  },
  {
   "cell_type": "code",
   "execution_count": 81,
   "metadata": {},
   "outputs": [
    {
     "data": {
      "text/html": [
       "<div>\n",
       "<style scoped>\n",
       "    .dataframe tbody tr th:only-of-type {\n",
       "        vertical-align: middle;\n",
       "    }\n",
       "\n",
       "    .dataframe tbody tr th {\n",
       "        vertical-align: top;\n",
       "    }\n",
       "\n",
       "    .dataframe thead th {\n",
       "        text-align: right;\n",
       "    }\n",
       "</style>\n",
       "<table border=\"1\" class=\"dataframe\">\n",
       "  <thead>\n",
       "    <tr style=\"text-align: right;\">\n",
       "      <th></th>\n",
       "      <th>seconds_elapsed</th>\n",
       "      <th>z_acc</th>\n",
       "      <th>y_acc</th>\n",
       "      <th>x_acc</th>\n",
       "      <th>z_gyro</th>\n",
       "      <th>y_gyro</th>\n",
       "      <th>x_gyro</th>\n",
       "      <th>z_grav</th>\n",
       "      <th>y_grav</th>\n",
       "      <th>x_grav</th>\n",
       "    </tr>\n",
       "  </thead>\n",
       "  <tbody>\n",
       "    <tr>\n",
       "      <th>543</th>\n",
       "      <td>-1.196621</td>\n",
       "      <td>-0.058938</td>\n",
       "      <td>0.431675</td>\n",
       "      <td>0.506540</td>\n",
       "      <td>0.402246</td>\n",
       "      <td>0.732932</td>\n",
       "      <td>0.331668</td>\n",
       "      <td>0.795721</td>\n",
       "      <td>-0.207579</td>\n",
       "      <td>-0.380746</td>\n",
       "    </tr>\n",
       "    <tr>\n",
       "      <th>544</th>\n",
       "      <td>-1.194375</td>\n",
       "      <td>-0.080327</td>\n",
       "      <td>0.329339</td>\n",
       "      <td>0.484583</td>\n",
       "      <td>0.402246</td>\n",
       "      <td>0.732932</td>\n",
       "      <td>0.331668</td>\n",
       "      <td>0.829152</td>\n",
       "      <td>-0.186270</td>\n",
       "      <td>-0.453115</td>\n",
       "    </tr>\n",
       "    <tr>\n",
       "      <th>545</th>\n",
       "      <td>-1.192128</td>\n",
       "      <td>-0.148784</td>\n",
       "      <td>0.062437</td>\n",
       "      <td>0.567440</td>\n",
       "      <td>0.402246</td>\n",
       "      <td>0.732932</td>\n",
       "      <td>0.331668</td>\n",
       "      <td>0.866824</td>\n",
       "      <td>-0.162236</td>\n",
       "      <td>-0.529529</td>\n",
       "    </tr>\n",
       "    <tr>\n",
       "      <th>546</th>\n",
       "      <td>-1.189881</td>\n",
       "      <td>-0.317975</td>\n",
       "      <td>-0.196106</td>\n",
       "      <td>0.733114</td>\n",
       "      <td>0.402246</td>\n",
       "      <td>0.732932</td>\n",
       "      <td>0.331668</td>\n",
       "      <td>0.910560</td>\n",
       "      <td>-0.137286</td>\n",
       "      <td>-0.595493</td>\n",
       "    </tr>\n",
       "    <tr>\n",
       "      <th>547</th>\n",
       "      <td>-1.187635</td>\n",
       "      <td>-0.538443</td>\n",
       "      <td>-0.338793</td>\n",
       "      <td>0.877443</td>\n",
       "      <td>0.402246</td>\n",
       "      <td>0.732932</td>\n",
       "      <td>0.331668</td>\n",
       "      <td>0.958915</td>\n",
       "      <td>-0.112107</td>\n",
       "      <td>-0.648502</td>\n",
       "    </tr>\n",
       "    <tr>\n",
       "      <th>...</th>\n",
       "      <td>...</td>\n",
       "      <td>...</td>\n",
       "      <td>...</td>\n",
       "      <td>...</td>\n",
       "      <td>...</td>\n",
       "      <td>...</td>\n",
       "      <td>...</td>\n",
       "      <td>...</td>\n",
       "      <td>...</td>\n",
       "      <td>...</td>\n",
       "    </tr>\n",
       "    <tr>\n",
       "      <th>1791</th>\n",
       "      <td>2.080727</td>\n",
       "      <td>-0.862343</td>\n",
       "      <td>-0.819461</td>\n",
       "      <td>-1.371959</td>\n",
       "      <td>-4.083097</td>\n",
       "      <td>1.032084</td>\n",
       "      <td>0.735996</td>\n",
       "      <td>3.221310</td>\n",
       "      <td>6.120615</td>\n",
       "      <td>2.374047</td>\n",
       "    </tr>\n",
       "    <tr>\n",
       "      <th>1792</th>\n",
       "      <td>2.082970</td>\n",
       "      <td>-0.655411</td>\n",
       "      <td>-0.598750</td>\n",
       "      <td>-1.290517</td>\n",
       "      <td>-3.775084</td>\n",
       "      <td>1.557523</td>\n",
       "      <td>0.784937</td>\n",
       "      <td>3.183598</td>\n",
       "      <td>6.142958</td>\n",
       "      <td>1.857841</td>\n",
       "    </tr>\n",
       "    <tr>\n",
       "      <th>1793</th>\n",
       "      <td>2.085212</td>\n",
       "      <td>-0.411298</td>\n",
       "      <td>-0.399856</td>\n",
       "      <td>-1.271376</td>\n",
       "      <td>-3.455193</td>\n",
       "      <td>1.624191</td>\n",
       "      <td>0.835566</td>\n",
       "      <td>3.139916</td>\n",
       "      <td>6.159747</td>\n",
       "      <td>1.358867</td>\n",
       "    </tr>\n",
       "    <tr>\n",
       "      <th>1794</th>\n",
       "      <td>2.087455</td>\n",
       "      <td>-0.166012</td>\n",
       "      <td>-0.230803</td>\n",
       "      <td>-1.371599</td>\n",
       "      <td>-3.104863</td>\n",
       "      <td>1.180699</td>\n",
       "      <td>0.860881</td>\n",
       "      <td>3.096505</td>\n",
       "      <td>6.172247</td>\n",
       "      <td>0.938835</td>\n",
       "    </tr>\n",
       "    <tr>\n",
       "      <th>1795</th>\n",
       "      <td>2.089698</td>\n",
       "      <td>-0.030939</td>\n",
       "      <td>-0.242229</td>\n",
       "      <td>-1.373676</td>\n",
       "      <td>-2.730033</td>\n",
       "      <td>0.419357</td>\n",
       "      <td>0.883382</td>\n",
       "      <td>3.059387</td>\n",
       "      <td>6.184135</td>\n",
       "      <td>0.634868</td>\n",
       "    </tr>\n",
       "  </tbody>\n",
       "</table>\n",
       "<p>605 rows × 10 columns</p>\n",
       "</div>"
      ],
      "text/plain": [
       "      seconds_elapsed     z_acc     y_acc     x_acc    z_gyro    y_gyro  \\\n",
       "543         -1.196621 -0.058938  0.431675  0.506540  0.402246  0.732932   \n",
       "544         -1.194375 -0.080327  0.329339  0.484583  0.402246  0.732932   \n",
       "545         -1.192128 -0.148784  0.062437  0.567440  0.402246  0.732932   \n",
       "546         -1.189881 -0.317975 -0.196106  0.733114  0.402246  0.732932   \n",
       "547         -1.187635 -0.538443 -0.338793  0.877443  0.402246  0.732932   \n",
       "...               ...       ...       ...       ...       ...       ...   \n",
       "1791         2.080727 -0.862343 -0.819461 -1.371959 -4.083097  1.032084   \n",
       "1792         2.082970 -0.655411 -0.598750 -1.290517 -3.775084  1.557523   \n",
       "1793         2.085212 -0.411298 -0.399856 -1.271376 -3.455193  1.624191   \n",
       "1794         2.087455 -0.166012 -0.230803 -1.371599 -3.104863  1.180699   \n",
       "1795         2.089698 -0.030939 -0.242229 -1.373676 -2.730033  0.419357   \n",
       "\n",
       "        x_gyro    z_grav    y_grav    x_grav  \n",
       "543   0.331668  0.795721 -0.207579 -0.380746  \n",
       "544   0.331668  0.829152 -0.186270 -0.453115  \n",
       "545   0.331668  0.866824 -0.162236 -0.529529  \n",
       "546   0.331668  0.910560 -0.137286 -0.595493  \n",
       "547   0.331668  0.958915 -0.112107 -0.648502  \n",
       "...        ...       ...       ...       ...  \n",
       "1791  0.735996  3.221310  6.120615  2.374047  \n",
       "1792  0.784937  3.183598  6.142958  1.857841  \n",
       "1793  0.835566  3.139916  6.159747  1.358867  \n",
       "1794  0.860881  3.096505  6.172247  0.938835  \n",
       "1795  0.883382  3.059387  6.184135  0.634868  \n",
       "\n",
       "[605 rows x 10 columns]"
      ]
     },
     "execution_count": 81,
     "metadata": {},
     "output_type": "execute_result"
    }
   ],
   "source": [
    "data_norm = normaliseDataset(data_trimmed) \n",
    "data_norm \n",
    "# ? normalize seconds as well? not sure"
   ]
  },
  {
   "cell_type": "markdown",
   "metadata": {},
   "source": [
    "### End of exercise 2.3\n",
    "---\n",
    "---"
   ]
  },
  {
   "cell_type": "code",
   "execution_count": 85,
   "metadata": {},
   "outputs": [
    {
     "data": {
      "image/png": "[encoded data removed]",
      "text/plain": [
       "<Figure size 2000x1000 with 9 Axes>"
      ]
     },
     "metadata": {},
     "output_type": "display_data"
    }
   ],
   "source": [
    "# plot recordings\n",
    "ex2_plot_data(data_norm)"
   ]
  },
  {
   "cell_type": "markdown",
   "metadata": {},
   "source": [
    "## Part 3: Feature extraction\n",
    "The current data is not yet suited for detecting a fall. Based on the measurements at a specific point of time, it is difficult to determine whether someone has allen. Instead, it would be more appropriate to perform the fall detection over _segments_ of time. In this part you will extract features that will be used for detecting falls. But first all collected datasets will be processed."
   ]
  },
  {
   "cell_type": "markdown",
   "metadata": {},
   "source": [
    "---\n",
    "---\n",
    "### Exercise 3.1: Merge all datasets\n",
    "Before starting the feature extraction, merge all the preprocessed datasets obtained in the protocol. You will need to load all recording, and again perform all preprocessing steps of Part 2 for the individual recordings. Make sure your code adheres to proper coding standards (make it look nice, don't copy part 2 15 times). Save your merged data in the the data frame `data_merged`."
   ]
  },
  {
   "cell_type": "code",
   "execution_count": null,
   "metadata": {},
   "outputs": [],
   "source": [
    "#// BEGIN_TODO [5ARB0_FallDetector_3_1] Merge all datasets\n",
    "\n",
    "# ===== =====> Replace this line by your code. <===== ===== #\n",
    "\n",
    "#// END_TODO [5ARB0_FallDetector_3_1]"
   ]
  },
  {
   "cell_type": "markdown",
   "metadata": {},
   "source": [
    "### End of exercise 3.1\n",
    "---\n",
    "---"
   ]
  },
  {
   "cell_type": "markdown",
   "metadata": {},
   "source": [
    "---\n",
    "---\n",
    "### Exercise 3.2: Convert data frame to matrix\n",
    "In order to extract features from the recording, first convert the dataframe to a Numpy matrix called `mat`. This matrix should have dimensions (_nr of time points_, _nr or different recordings_). Make sure that you remove the _seconds_elapsed_ column, as this does not yield any useful information for the fall detector."
   ]
  },
  {
   "cell_type": "code",
   "execution_count": null,
   "metadata": {},
   "outputs": [],
   "source": [
    "#// BEGIN_TODO [5ARB0_FallDetector_3_2] Convert data frame to matrix\n",
    "\n",
    "# ===== =====> Replace this line by your code. <===== ===== #\n",
    "\n",
    "#// END_TODO [5ARB0_FallDetector_3_2]"
   ]
  },
  {
   "cell_type": "markdown",
   "metadata": {},
   "source": [
    "### End of exercise 3.2\n",
    "---\n",
    "---"
   ]
  },
  {
   "cell_type": "markdown",
   "metadata": {},
   "source": [
    "Now that the data frame has been converted to a matrix, it can be split into different overlapping segments, of which we can extract features. As a starting point we will specify features as the mean value of a segment, its standard deviation, its minimum and its maximum."
   ]
  },
  {
   "cell_type": "markdown",
   "metadata": {},
   "source": [
    "---\n",
    "---\n",
    "### Exercise 3.3: Processing segments\n",
    "Create a function `Y = process_segment(mat, fun, L, K)` that processes time segments of the matrix `mat`. The argument `fun` specifies the operation to be performed on the segment and its value comes from the set `[\"mean\", \"std\", \"minimum\", \"maximum\"]`. `L` specifies the segment length and `K` specifies the number of samples overlap between segments. The function should return a matrix `Y` with dimensions (_nr of segments_, _nr of different recordings_)"
   ]
  },
  {
   "cell_type": "code",
   "execution_count": null,
   "metadata": {},
   "outputs": [],
   "source": [
    "#// BEGIN_TODO [5ARB0_FallDetector_3_3] Process segments\n",
    "\n",
    "# ===== =====> Replace this line by your code. <===== ===== #\n",
    "\n",
    "#// END_TODO [5ARB0_FallDetector_3_3]"
   ]
  },
  {
   "cell_type": "code",
   "execution_count": null,
   "metadata": {},
   "outputs": [],
   "source": [
    "Y_mean = process_segment(mat, \"mean\", 100, 50)\n",
    "Y_std = process_segment(mat, \"std\", 100, 50)\n",
    "Y_minimum = process_segment(mat, \"minimum\", 100, 50)\n",
    "Y_maximum = process_segment(mat, \"maximum\", 100, 50)"
   ]
  },
  {
   "cell_type": "markdown",
   "metadata": {},
   "source": [
    "### End of exercise 3.3\n",
    "---\n",
    "---"
   ]
  },
  {
   "cell_type": "markdown",
   "metadata": {},
   "source": [
    "---\n",
    "---\n",
    "### Exercise 3.4: Concatenate features\n",
    "Now that you have computed some features of the recordings, it becomes necessary to combine them into a single matrix. Create the matrix `features` which concatenates the above results along the appropriate axis."
   ]
  },
  {
   "cell_type": "code",
   "execution_count": null,
   "metadata": {},
   "outputs": [],
   "source": [
    "#// BEGIN_TODO [5ARB0_FallDetector_3_4] Concatenate features\n",
    "\n",
    "# ===== =====> Replace this line by your code. <===== ===== #\n",
    "\n",
    "#// END_TODO [5ARB0_FallDetector_3_4]"
   ]
  },
  {
   "cell_type": "markdown",
   "metadata": {},
   "source": [
    "### End of exercise 3.4\n",
    "---\n",
    "---"
   ]
  },
  {
   "cell_type": "markdown",
   "metadata": {},
   "source": [
    "## Part 4: Fall detector\n",
    "In this part of the assignment we will use the previously implemented data analysis methods to create a simple fall detector. You will be given more freedom to experiment with the different techniques used."
   ]
  },
  {
   "cell_type": "markdown",
   "metadata": {},
   "source": [
    "During this part you can make use of the `sklearn` (Scikit learn) package. This package offers some benefits over the handwritten clustering functions. These algorithms are numerically stable and better optimized to run on large data sets."
   ]
  },
  {
   "cell_type": "code",
   "execution_count": null,
   "metadata": {},
   "outputs": [],
   "source": [
    "from sklearn.decomposition import PCA, FastICA\n",
    "from sklearn.cluster import KMeans\n",
    "from sklearn.mixture import GaussianMixture"
   ]
  },
  {
   "cell_type": "markdown",
   "metadata": {},
   "source": [
    "---\n",
    "---\n",
    "### Exercise 4.1: Fall detector\n",
    "In this assignment you will create your own fall detector, using the previously recorded data and learned data analysis methods. You are free to add more features to the dataset if you want. Possible steps include: 1) feature extraction, 2) data compression and 3) clustering."
   ]
  },
  {
   "cell_type": "code",
   "execution_count": null,
   "metadata": {},
   "outputs": [],
   "source": [
    "#// BEGIN_TODO [5ARB0_FallDetector_4_1] Fall detector\n",
    "\n",
    "# ===== =====> Replace this line by your code. <===== ===== #\n",
    "\n",
    "#// END_TODO [5ARB0_FallDetector_4_1]"
   ]
  },
  {
   "cell_type": "markdown",
   "metadata": {},
   "source": [
    "### End of exercise 4.1\n",
    "---\n",
    "---"
   ]
  },
  {
   "cell_type": "markdown",
   "metadata": {},
   "source": [
    "---\n",
    "---\n",
    "### Exercise 4.2: Fall classification\n",
    "Use your fall detector to classify when someone has fallen. Plot your fall classification over time."
   ]
  },
  {
   "cell_type": "code",
   "execution_count": null,
   "metadata": {},
   "outputs": [],
   "source": [
    "#// BEGIN_TODO [5ARB0_FallDetector_4_2] Classify falls\n",
    "\n",
    "# ===== =====> Replace this line by your code. <===== ===== #\n",
    "\n",
    "#// END_TODO [5ARB0_FallDetector_4_2]"
   ]
  },
  {
   "cell_type": "markdown",
   "metadata": {},
   "source": [
    "### End of exercise 4.2\n",
    "---\n",
    "---"
   ]
  },
  {
   "cell_type": "markdown",
   "metadata": {},
   "source": [
    "---\n",
    "---\n",
    "### Exercise 4.3: Classification improvements\n",
    "You might have noticed that it is not easy to create a fall detector. How do you think that you could improve the performance? Please carefully describe the current flaws and ways to deal with them, together with a list of next steps that you would take. Please elaborate on your answer."
   ]
  },
  {
   "cell_type": "markdown",
   "metadata": {},
   "source": [
    "### End of exercise 4.3\n",
    "---\n",
    "---"
   ]
  },
  {
   "cell_type": "markdown",
   "metadata": {},
   "source": [
    ">   Make sure to restart this notebook and to rerun all cells before submission to check whether all code runs properly."
   ]
  }
 ],
 "metadata": {
  "kernelspec": {
   "display_name": "Python 3.8.13",
   "language": "python",
   "name": "python3"
  },
  "language_info": {
   "codemirror_mode": {
    "name": "ipython",
    "version": 3
   },
   "file_extension": ".py",
   "mimetype": "text/x-python",
   "name": "python",
   "nbconvert_exporter": "python",
   "pygments_lexer": "ipython3",
   "version": "3.8.17"
  },
  "vscode": {
   "interpreter": {
    "hash": "5a858c881b8d70db3039a81d17385b21e0d85a8588e84998f245cd046e174a03"
   }
  }
 },
 "nbformat": 4,
 "nbformat_minor": 4
}
