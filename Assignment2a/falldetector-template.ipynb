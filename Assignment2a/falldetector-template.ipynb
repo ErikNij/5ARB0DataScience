{
 "cells": [
  {
   "cell_type": "markdown",
   "metadata": {},
   "source": [
    "# Fall detector\n",
    "## \\[5ARB0\\] Data Acquisition and Analysis - Technical Assignment"
   ]
  },
  {
   "cell_type": "code",
   "execution_count": 2,
   "metadata": {},
   "outputs": [],
   "source": [
    "# this cell imports the libraries or packages that you can use during this assignment\n",
    "# you are not allowed to import additional libraries or packages\n",
    "from helpers import *\n",
    "import matplotlib.pyplot as plt\n",
    "import numpy as np\n",
    "import pandas as pd\n",
    "from scipy.stats import multivariate_normal"
   ]
  },
  {
   "cell_type": "markdown",
   "metadata": {},
   "source": [
    "> **Important**\n",
    ">\n",
    "> Do not import any other packages or libraries than the ones already provided to you.\n",
    ">\n",
    "> Write your code between the `BEGIN_TODO` and `END_TODO` markers. Do not change these markers.\n",
    ">\n",
    "> Restart your notebook and run all cells before submission."
   ]
  },
  {
   "cell_type": "markdown",
   "metadata": {},
   "source": [
    "## Introduction\n",
    "In this assignment you will use the previously learned data analysis methods and apply them to create a fall detector. After collecting and preprocessing sensor recording, you will extract a set of features which you will use for creating a fall detector.\n",
    "\n",
    "This assignment is split into 4 parts. Parts 1-3 encompass the collection, preprocessing and feature extraction of sensor recordings. Finally, in part 4 you will create a fall detector.\n",
    "\n",
    "### Learning goals\n",
    "After this assignment you can\n",
    "- collect data according to a protocol;\n",
    "- load and merge datasets;\n",
    "- preprocess data;\n",
    "- extract features from data;\n",
    "- apply analysis methods for creating a fall detector."
   ]
  },
  {
   "cell_type": "markdown",
   "metadata": {},
   "source": [
    "## Part 1: Data collection"
   ]
  },
  {
   "cell_type": "markdown",
   "metadata": {},
   "source": [
    "Collect the data according to the data collection protocol provided on Canvas.\n",
    "\n",
    "> (For iPhone) If you have issues accessing the (live) calibrated data of the _Sensor Logger_ app, you need to enable motion and compas calibration on your phone as explained [here](https://www.lifewire.com/how-to-calibrate-an-iphone-4172146). You will notice this once the live view and the export yield empty results."
   ]
  },
  {
   "cell_type": "markdown",
   "metadata": {},
   "source": [
    "## Part 2: Data cleaning and preprocessing\n",
    "In this part you will be working on cleaning and preprocessing the data that you have gathered for further analysis.\n"
   ]
  },
  {
   "cell_type": "markdown",
   "metadata": {},
   "source": [
    "---\n",
    "---\n",
    "### Exercise 2.1: Read, merge and select data\n",
    "Load one of your individuals recordings in a Pandas DataFrame called `data`. You may want to have a look at the `pd.merge_asof` function to combine the recordings of the different sensors. Make sure that the `data` dataframe does not contain any `NaN`'s or empty fields as a result of different sampling frequencies. Any columns/recordings that you will not be using in your experiment should be removed from `data` (except for the `seconds_elapsed` column). Also remove duplicate colums. In the end your dataframe should have an indexing column, a column called `seconds_elapsed`, followed by the columns corresponding to the measurements."
   ]
  },
  {
   "cell_type": "code",
   "execution_count": 2,
   "metadata": {},
   "outputs": [],
   "source": [
    "#// BEGIN_TODO [5ARB0_FallDetector_2_1] Read, merge and select data\n",
    "\n",
    "FolderPath = \"RawData\"\n",
    "FolderOfIntrest = \"ErikTrialData2023-09-22_14-33-27\"\n",
    "files = [\"Accelerometer.csv\",\"Gravity.csv\",\"Gyroscope.csv\"]\n",
    "i=0\n",
    "for file in files:\n",
    "    path = FolderPath + \"/\" + FolderOfIntrest + \"/\" + file\n",
    "    RawData[i] = pd.read_csv(\"RawData/ErikTrialData2023-09-22_14-33-27/Gravity.csv\")\n",
    "    i = i + 1\n",
    "\n",
    "#// END_TODO [5ARB0_FallDetector_2_1]"
   ]
  },
  {
   "cell_type": "code",
   "execution_count": 28,
   "metadata": {},
   "outputs": [
    {
     "data": {
      "text/html": [
       "<div>\n",
       "<style scoped>\n",
       "    .dataframe tbody tr th:only-of-type {\n",
       "        vertical-align: middle;\n",
       "    }\n",
       "\n",
       "    .dataframe tbody tr th {\n",
       "        vertical-align: top;\n",
       "    }\n",
       "\n",
       "    .dataframe thead th {\n",
       "        text-align: right;\n",
       "    }\n",
       "</style>\n",
       "<table border=\"1\" class=\"dataframe\">\n",
       "  <thead>\n",
       "    <tr style=\"text-align: right;\">\n",
       "      <th></th>\n",
       "      <th>time</th>\n",
       "      <th>seconds_elapsed_acc</th>\n",
       "      <th>z_acc</th>\n",
       "      <th>y_acc</th>\n",
       "      <th>x_acc</th>\n",
       "      <th>seconds_elapsed_gyro</th>\n",
       "      <th>z_gyro</th>\n",
       "      <th>y_gyro</th>\n",
       "      <th>x_gyro</th>\n",
       "      <th>seconds_elapsed</th>\n",
       "      <th>z</th>\n",
       "      <th>y</th>\n",
       "      <th>x</th>\n",
       "    </tr>\n",
       "  </thead>\n",
       "  <tbody>\n",
       "    <tr>\n",
       "      <th>0</th>\n",
       "      <td>1695712542020082700</td>\n",
       "      <td>0.146083</td>\n",
       "      <td>0.000000</td>\n",
       "      <td>0.000000</td>\n",
       "      <td>0.000000</td>\n",
       "      <td>0.146083</td>\n",
       "      <td>0.278034</td>\n",
       "      <td>-0.664458</td>\n",
       "      <td>0.136221</td>\n",
       "      <td>0.146083</td>\n",
       "      <td>8.006465</td>\n",
       "      <td>5.622877</td>\n",
       "      <td>-0.670951</td>\n",
       "    </tr>\n",
       "    <tr>\n",
       "      <th>1</th>\n",
       "      <td>1695712542030123800</td>\n",
       "      <td>0.156124</td>\n",
       "      <td>-0.028530</td>\n",
       "      <td>0.103019</td>\n",
       "      <td>0.138830</td>\n",
       "      <td>0.156124</td>\n",
       "      <td>0.171507</td>\n",
       "      <td>-0.626109</td>\n",
       "      <td>0.304399</td>\n",
       "      <td>0.156124</td>\n",
       "      <td>7.946890</td>\n",
       "      <td>5.725518</td>\n",
       "      <td>-0.485553</td>\n",
       "    </tr>\n",
       "    <tr>\n",
       "      <th>2</th>\n",
       "      <td>1695712542040343800</td>\n",
       "      <td>0.166344</td>\n",
       "      <td>-0.240870</td>\n",
       "      <td>0.079999</td>\n",
       "      <td>-0.072005</td>\n",
       "      <td>0.166344</td>\n",
       "      <td>0.055394</td>\n",
       "      <td>-0.515321</td>\n",
       "      <td>0.441818</td>\n",
       "      <td>0.166344</td>\n",
       "      <td>7.867237</td>\n",
       "      <td>5.835296</td>\n",
       "      <td>-0.475711</td>\n",
       "    </tr>\n",
       "    <tr>\n",
       "      <th>3</th>\n",
       "      <td>1695712542050217000</td>\n",
       "      <td>0.176217</td>\n",
       "      <td>-0.523833</td>\n",
       "      <td>-0.059002</td>\n",
       "      <td>-0.245359</td>\n",
       "      <td>0.176217</td>\n",
       "      <td>-0.025566</td>\n",
       "      <td>-0.367250</td>\n",
       "      <td>0.507864</td>\n",
       "      <td>0.176217</td>\n",
       "      <td>7.787525</td>\n",
       "      <td>5.936728</td>\n",
       "      <td>-0.529233</td>\n",
       "    </tr>\n",
       "    <tr>\n",
       "      <th>4</th>\n",
       "      <td>1695712542060258000</td>\n",
       "      <td>0.186258</td>\n",
       "      <td>-0.646675</td>\n",
       "      <td>-0.103556</td>\n",
       "      <td>-0.354661</td>\n",
       "      <td>0.186258</td>\n",
       "      <td>-0.084023</td>\n",
       "      <td>-0.139416</td>\n",
       "      <td>0.491885</td>\n",
       "      <td>0.186258</td>\n",
       "      <td>7.710637</td>\n",
       "      <td>6.028436</td>\n",
       "      <td>-0.611899</td>\n",
       "    </tr>\n",
       "    <tr>\n",
       "      <th>...</th>\n",
       "      <td>...</td>\n",
       "      <td>...</td>\n",
       "      <td>...</td>\n",
       "      <td>...</td>\n",
       "      <td>...</td>\n",
       "      <td>...</td>\n",
       "      <td>...</td>\n",
       "      <td>...</td>\n",
       "      <td>...</td>\n",
       "      <td>...</td>\n",
       "      <td>...</td>\n",
       "      <td>...</td>\n",
       "      <td>...</td>\n",
       "    </tr>\n",
       "    <tr>\n",
       "      <th>2290</th>\n",
       "      <td>1695712568785646300</td>\n",
       "      <td>26.911646</td>\n",
       "      <td>-0.165359</td>\n",
       "      <td>0.083551</td>\n",
       "      <td>0.158941</td>\n",
       "      <td>26.871540</td>\n",
       "      <td>0.036219</td>\n",
       "      <td>0.075767</td>\n",
       "      <td>-0.089615</td>\n",
       "      <td>26.911646</td>\n",
       "      <td>8.845161</td>\n",
       "      <td>4.194827</td>\n",
       "      <td>-0.580462</td>\n",
       "    </tr>\n",
       "    <tr>\n",
       "      <th>2291</th>\n",
       "      <td>1695712568795676700</td>\n",
       "      <td>26.921677</td>\n",
       "      <td>-0.204567</td>\n",
       "      <td>0.105250</td>\n",
       "      <td>0.154618</td>\n",
       "      <td>26.871540</td>\n",
       "      <td>0.036219</td>\n",
       "      <td>0.075767</td>\n",
       "      <td>-0.089615</td>\n",
       "      <td>26.921677</td>\n",
       "      <td>8.843606</td>\n",
       "      <td>4.198024</td>\n",
       "      <td>-0.581053</td>\n",
       "    </tr>\n",
       "    <tr>\n",
       "      <th>2292</th>\n",
       "      <td>1695712568805735400</td>\n",
       "      <td>26.931735</td>\n",
       "      <td>-0.093494</td>\n",
       "      <td>0.095814</td>\n",
       "      <td>0.145486</td>\n",
       "      <td>26.871540</td>\n",
       "      <td>0.036219</td>\n",
       "      <td>0.075767</td>\n",
       "      <td>-0.089615</td>\n",
       "      <td>26.931735</td>\n",
       "      <td>8.843465</td>\n",
       "      <td>4.198252</td>\n",
       "      <td>-0.581532</td>\n",
       "    </tr>\n",
       "    <tr>\n",
       "      <th>2293</th>\n",
       "      <td>1695712568815768600</td>\n",
       "      <td>26.941769</td>\n",
       "      <td>0.034523</td>\n",
       "      <td>0.081493</td>\n",
       "      <td>0.077031</td>\n",
       "      <td>26.871540</td>\n",
       "      <td>0.036219</td>\n",
       "      <td>0.075767</td>\n",
       "      <td>-0.089615</td>\n",
       "      <td>26.941769</td>\n",
       "      <td>8.843783</td>\n",
       "      <td>4.197780</td>\n",
       "      <td>-0.580108</td>\n",
       "    </tr>\n",
       "    <tr>\n",
       "      <th>2294</th>\n",
       "      <td>1695712568825795300</td>\n",
       "      <td>26.951795</td>\n",
       "      <td>-0.007658</td>\n",
       "      <td>-0.039415</td>\n",
       "      <td>0.097776</td>\n",
       "      <td>26.871540</td>\n",
       "      <td>0.036219</td>\n",
       "      <td>0.075767</td>\n",
       "      <td>-0.089615</td>\n",
       "      <td>26.951795</td>\n",
       "      <td>8.843337</td>\n",
       "      <td>4.199140</td>\n",
       "      <td>-0.577058</td>\n",
       "    </tr>\n",
       "  </tbody>\n",
       "</table>\n",
       "<p>2295 rows × 13 columns</p>\n",
       "</div>"
      ],
      "text/plain": [
       "                     time  seconds_elapsed_acc     z_acc     y_acc     x_acc  \\\n",
       "0     1695712542020082700             0.146083  0.000000  0.000000  0.000000   \n",
       "1     1695712542030123800             0.156124 -0.028530  0.103019  0.138830   \n",
       "2     1695712542040343800             0.166344 -0.240870  0.079999 -0.072005   \n",
       "3     1695712542050217000             0.176217 -0.523833 -0.059002 -0.245359   \n",
       "4     1695712542060258000             0.186258 -0.646675 -0.103556 -0.354661   \n",
       "...                   ...                  ...       ...       ...       ...   \n",
       "2290  1695712568785646300            26.911646 -0.165359  0.083551  0.158941   \n",
       "2291  1695712568795676700            26.921677 -0.204567  0.105250  0.154618   \n",
       "2292  1695712568805735400            26.931735 -0.093494  0.095814  0.145486   \n",
       "2293  1695712568815768600            26.941769  0.034523  0.081493  0.077031   \n",
       "2294  1695712568825795300            26.951795 -0.007658 -0.039415  0.097776   \n",
       "\n",
       "      seconds_elapsed_gyro    z_gyro    y_gyro    x_gyro  seconds_elapsed  \\\n",
       "0                 0.146083  0.278034 -0.664458  0.136221         0.146083   \n",
       "1                 0.156124  0.171507 -0.626109  0.304399         0.156124   \n",
       "2                 0.166344  0.055394 -0.515321  0.441818         0.166344   \n",
       "3                 0.176217 -0.025566 -0.367250  0.507864         0.176217   \n",
       "4                 0.186258 -0.084023 -0.139416  0.491885         0.186258   \n",
       "...                    ...       ...       ...       ...              ...   \n",
       "2290             26.871540  0.036219  0.075767 -0.089615        26.911646   \n",
       "2291             26.871540  0.036219  0.075767 -0.089615        26.921677   \n",
       "2292             26.871540  0.036219  0.075767 -0.089615        26.931735   \n",
       "2293             26.871540  0.036219  0.075767 -0.089615        26.941769   \n",
       "2294             26.871540  0.036219  0.075767 -0.089615        26.951795   \n",
       "\n",
       "             z         y         x  \n",
       "0     8.006465  5.622877 -0.670951  \n",
       "1     7.946890  5.725518 -0.485553  \n",
       "2     7.867237  5.835296 -0.475711  \n",
       "3     7.787525  5.936728 -0.529233  \n",
       "4     7.710637  6.028436 -0.611899  \n",
       "...        ...       ...       ...  \n",
       "2290  8.845161  4.194827 -0.580462  \n",
       "2291  8.843606  4.198024 -0.581053  \n",
       "2292  8.843465  4.198252 -0.581532  \n",
       "2293  8.843783  4.197780 -0.580108  \n",
       "2294  8.843337  4.199140 -0.577058  \n",
       "\n",
       "[2295 rows x 13 columns]"
      ]
     },
     "execution_count": 28,
     "metadata": {},
     "output_type": "execute_result"
    }
   ],
   "source": [
    "acc = \"./RawDataDaniel/Walk_samples/2023-09-26_07-15-41/Accelerometer.csv\"\n",
    "grav = \"./RawDataDaniel/Walk_samples/2023-09-26_07-15-41/Gravity.csv\"\n",
    "gyro = \"./RawDataDaniel/Walk_samples/2023-09-26_07-15-41/Gyroscope.csv\"\n",
    "\n",
    "acc_df = pd.read_csv(acc)\n",
    "grav_df = pd.read_csv(grav)\n",
    "gyro_df = pd.read_csv(gyro)\n",
    "\n",
    "df = pd.merge_asof(acc_df, gyro_df, on='time', suffixes=['None', '_gyro'])\n",
    "df = pd.merge_asof(df, grav_df, on='time', suffixes=['_acc', '_gyro'])\n",
    "\n",
    "# df.drop(columns=['seconds_elapsed_gyro', ])\n",
    "df\n"
   ]
  },
  {
   "cell_type": "code",
   "execution_count": null,
   "metadata": {},
   "outputs": [],
   "source": [
    "data"
   ]
  },
  {
   "cell_type": "markdown",
   "metadata": {},
   "source": [
    "### End of exercise 2.1\n",
    "---\n",
    "---"
   ]
  },
  {
   "cell_type": "markdown",
   "metadata": {},
   "source": [
    "In order to restrict our focus to fall detection, we would like to trim the recorded segment. In this way we can remove the movements corresponding to starting and stopping the sensor logger app. \n",
    "\n",
    "---\n",
    "---\n",
    "### Exercise 2.2: Trim data\n",
    "Remove the first and last 5 seconds of the recordings for this purpose and save this trimmed data frame to `data_trimmed`. Make sure that your code works for a data frame containing an arbitrary number of columns."
   ]
  },
  {
   "cell_type": "code",
   "execution_count": null,
   "metadata": {},
   "outputs": [],
   "source": [
    "#// BEGIN_TODO [5ARB0_FallDetector_2_2] Trim data\n",
    "\n",
    "# ===== =====> Replace this line by your code. <===== ===== #\n",
    "\n",
    "#// END_TODO [5ARB0_FallDetector_2_2]"
   ]
  },
  {
   "cell_type": "code",
   "execution_count": null,
   "metadata": {},
   "outputs": [],
   "source": [
    "data_trimmed"
   ]
  },
  {
   "cell_type": "markdown",
   "metadata": {},
   "source": [
    "### End of exercise 2.2\n",
    "---\n",
    "---"
   ]
  },
  {
   "cell_type": "markdown",
   "metadata": {},
   "source": [
    "---\n",
    "---\n",
    "### Exercise 2.3: Normalize recordings\n",
    "For improved processing, the recordings should be normalized. Normalize the recordings by subtracting its mean and by then dividing by its standard deviation. Perform this normalization for each column individually. Save your normalized data in the the data frame `data_norm`."
   ]
  },
  {
   "cell_type": "code",
   "execution_count": null,
   "metadata": {},
   "outputs": [],
   "source": [
    "#// BEGIN_TODO [5ARB0_FallDetector_2_3] Normalize recordings\n",
    "\n",
    "# ===== =====> Replace this line by your code. <===== ===== #\n",
    "\n",
    "#// END_TODO [5ARB0_FallDetector_2_3]"
   ]
  },
  {
   "cell_type": "code",
   "execution_count": null,
   "metadata": {},
   "outputs": [],
   "source": [
    "data_norm"
   ]
  },
  {
   "cell_type": "markdown",
   "metadata": {},
   "source": [
    "### End of exercise 2.3\n",
    "---\n",
    "---"
   ]
  },
  {
   "cell_type": "code",
   "execution_count": null,
   "metadata": {},
   "outputs": [],
   "source": [
    "# plot recordings\n",
    "ex2_plot_data(data_norm)"
   ]
  },
  {
   "cell_type": "markdown",
   "metadata": {},
   "source": [
    "## Part 3: Feature extraction\n",
    "The current data is not yet suited for detecting a fall. Based on the measurements at a specific point of time, it is difficult to determine whether someone has allen. Instead, it would be more appropriate to perform the fall detection over _segments_ of time. In this part you will extract features that will be used for detecting falls. But first all collected datasets will be processed."
   ]
  },
  {
   "cell_type": "markdown",
   "metadata": {},
   "source": [
    "---\n",
    "---\n",
    "### Exercise 3.1: Merge all datasets\n",
    "Before starting the feature extraction, merge all the preprocessed datasets obtained in the protocol. You will need to load all recording, and again perform all preprocessing steps of Part 2 for the individual recordings. Make sure your code adheres to proper coding standards (make it look nice, don't copy part 2 15 times). Save your merged data in the the data frame `data_merged`."
   ]
  },
  {
   "cell_type": "code",
   "execution_count": null,
   "metadata": {},
   "outputs": [],
   "source": [
    "#// BEGIN_TODO [5ARB0_FallDetector_3_1] Merge all datasets\n",
    "\n",
    "# ===== =====> Replace this line by your code. <===== ===== #\n",
    "\n",
    "#// END_TODO [5ARB0_FallDetector_3_1]"
   ]
  },
  {
   "cell_type": "markdown",
   "metadata": {},
   "source": [
    "### End of exercise 3.1\n",
    "---\n",
    "---"
   ]
  },
  {
   "cell_type": "markdown",
   "metadata": {},
   "source": [
    "---\n",
    "---\n",
    "### Exercise 3.2: Convert data frame to matrix\n",
    "In order to extract features from the recording, first convert the dataframe to a Numpy matrix called `mat`. This matrix should have dimensions (_nr of time points_, _nr or different recordings_). Make sure that you remove the _seconds_elapsed_ column, as this does not yield any useful information for the fall detector."
   ]
  },
  {
   "cell_type": "code",
   "execution_count": null,
   "metadata": {},
   "outputs": [],
   "source": [
    "#// BEGIN_TODO [5ARB0_FallDetector_3_2] Convert data frame to matrix\n",
    "\n",
    "# ===== =====> Replace this line by your code. <===== ===== #\n",
    "\n",
    "#// END_TODO [5ARB0_FallDetector_3_2]"
   ]
  },
  {
   "cell_type": "markdown",
   "metadata": {},
   "source": [
    "### End of exercise 3.2\n",
    "---\n",
    "---"
   ]
  },
  {
   "cell_type": "markdown",
   "metadata": {},
   "source": [
    "Now that the data frame has been converted to a matrix, it can be split into different overlapping segments, of which we can extract features. As a starting point we will specify features as the mean value of a segment, its standard deviation, its minimum and its maximum."
   ]
  },
  {
   "cell_type": "markdown",
   "metadata": {},
   "source": [
    "---\n",
    "---\n",
    "### Exercise 3.3: Processing segments\n",
    "Create a function `Y = process_segment(mat, fun, L, K)` that processes time segments of the matrix `mat`. The argument `fun` specifies the operation to be performed on the segment and its value comes from the set `[\"mean\", \"std\", \"minimum\", \"maximum\"]`. `L` specifies the segment length and `K` specifies the number of samples overlap between segments. The function should return a matrix `Y` with dimensions (_nr of segments_, _nr of different recordings_)"
   ]
  },
  {
   "cell_type": "code",
   "execution_count": null,
   "metadata": {},
   "outputs": [],
   "source": [
    "#// BEGIN_TODO [5ARB0_FallDetector_3_3] Process segments\n",
    "\n",
    "# ===== =====> Replace this line by your code. <===== ===== #\n",
    "\n",
    "#// END_TODO [5ARB0_FallDetector_3_3]"
   ]
  },
  {
   "cell_type": "code",
   "execution_count": null,
   "metadata": {},
   "outputs": [],
   "source": [
    "Y_mean = process_segment(mat, \"mean\", 100, 50)\n",
    "Y_std = process_segment(mat, \"std\", 100, 50)\n",
    "Y_minimum = process_segment(mat, \"minimum\", 100, 50)\n",
    "Y_maximum = process_segment(mat, \"maximum\", 100, 50)"
   ]
  },
  {
   "cell_type": "markdown",
   "metadata": {},
   "source": [
    "### End of exercise 3.3\n",
    "---\n",
    "---"
   ]
  },
  {
   "cell_type": "markdown",
   "metadata": {},
   "source": [
    "---\n",
    "---\n",
    "### Exercise 3.4: Concatenate features\n",
    "Now that you have computed some features of the recordings, it becomes necessary to combine them into a single matrix. Create the matrix `features` which concatenates the above results along the appropriate axis."
   ]
  },
  {
   "cell_type": "code",
   "execution_count": null,
   "metadata": {},
   "outputs": [],
   "source": [
    "#// BEGIN_TODO [5ARB0_FallDetector_3_4] Concatenate features\n",
    "\n",
    "# ===== =====> Replace this line by your code. <===== ===== #\n",
    "\n",
    "#// END_TODO [5ARB0_FallDetector_3_4]"
   ]
  },
  {
   "cell_type": "markdown",
   "metadata": {},
   "source": [
    "### End of exercise 3.4\n",
    "---\n",
    "---"
   ]
  },
  {
   "cell_type": "markdown",
   "metadata": {},
   "source": [
    "## Part 4: Fall detector\n",
    "In this part of the assignment we will use the previously implemented data analysis methods to create a simple fall detector. You will be given more freedom to experiment with the different techniques used."
   ]
  },
  {
   "cell_type": "markdown",
   "metadata": {},
   "source": [
    "During this part you can make use of the `sklearn` (Scikit learn) package. This package offers some benefits over the handwritten clustering functions. These algorithms are numerically stable and better optimized to run on large data sets."
   ]
  },
  {
   "cell_type": "code",
   "execution_count": null,
   "metadata": {},
   "outputs": [],
   "source": [
    "from sklearn.decomposition import PCA, FastICA\n",
    "from sklearn.cluster import KMeans\n",
    "from sklearn.mixture import GaussianMixture"
   ]
  },
  {
   "cell_type": "markdown",
   "metadata": {},
   "source": [
    "---\n",
    "---\n",
    "### Exercise 4.1: Fall detector\n",
    "In this assignment you will create your own fall detector, using the previously recorded data and learned data analysis methods. You are free to add more features to the dataset if you want. Possible steps include: 1) feature extraction, 2) data compression and 3) clustering."
   ]
  },
  {
   "cell_type": "code",
   "execution_count": null,
   "metadata": {},
   "outputs": [],
   "source": [
    "#// BEGIN_TODO [5ARB0_FallDetector_4_1] Fall detector\n",
    "\n",
    "# ===== =====> Replace this line by your code. <===== ===== #\n",
    "\n",
    "#// END_TODO [5ARB0_FallDetector_4_1]"
   ]
  },
  {
   "cell_type": "markdown",
   "metadata": {},
   "source": [
    "### End of exercise 4.1\n",
    "---\n",
    "---"
   ]
  },
  {
   "cell_type": "markdown",
   "metadata": {},
   "source": [
    "---\n",
    "---\n",
    "### Exercise 4.2: Fall classification\n",
    "Use your fall detector to classify when someone has fallen. Plot your fall classification over time."
   ]
  },
  {
   "cell_type": "code",
   "execution_count": null,
   "metadata": {},
   "outputs": [],
   "source": [
    "#// BEGIN_TODO [5ARB0_FallDetector_4_2] Classify falls\n",
    "\n",
    "# ===== =====> Replace this line by your code. <===== ===== #\n",
    "\n",
    "#// END_TODO [5ARB0_FallDetector_4_2]"
   ]
  },
  {
   "cell_type": "markdown",
   "metadata": {},
   "source": [
    "### End of exercise 4.2\n",
    "---\n",
    "---"
   ]
  },
  {
   "cell_type": "markdown",
   "metadata": {},
   "source": [
    "---\n",
    "---\n",
    "### Exercise 4.3: Classification improvements\n",
    "You might have noticed that it is not easy to create a fall detector. How do you think that you could improve the performance? Please carefully describe the current flaws and ways to deal with them, together with a list of next steps that you would take. Please elaborate on your answer."
   ]
  },
  {
   "cell_type": "markdown",
   "metadata": {},
   "source": [
    "### End of exercise 4.3\n",
    "---\n",
    "---"
   ]
  },
  {
   "cell_type": "markdown",
   "metadata": {},
   "source": [
    ">   Make sure to restart this notebook and to rerun all cells before submission to check whether all code runs properly."
   ]
  }
 ],
 "metadata": {
  "kernelspec": {
   "display_name": "Python 3.8.13",
   "language": "python",
   "name": "python3"
  },
  "language_info": {
   "codemirror_mode": {
    "name": "ipython",
    "version": 3
   },
   "file_extension": ".py",
   "mimetype": "text/x-python",
   "name": "python",
   "nbconvert_exporter": "python",
   "pygments_lexer": "ipython3",
   "version": "3.8.17"
  },
  "vscode": {
   "interpreter": {
    "hash": "5a858c881b8d70db3039a81d17385b21e0d85a8588e84998f245cd046e174a03"
   }
  }
 },
 "nbformat": 4,
 "nbformat_minor": 4
}
